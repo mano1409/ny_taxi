{
 "cells": [
  {
   "cell_type": "code",
   "execution_count": 1,
   "id": "b864df1f-3b61-4d10-b63e-a0e0bb7a2acd",
   "metadata": {},
   "outputs": [],
   "source": [
    "from pathlib import Path\n",
    "import pandas as pd\n",
    "import requests\n",
    "\n",
    "def fetch_raw_data(year: int, month: int) -> str:\n",
    "    url = f\"https://d37ci6vzurychx.cloudfront.net/trip-data/yellow_tripdata_{year}-{month:02}.parquet\"\n",
    "    response = requests.get(url)\n",
    "    if response.status_code == 200:\n",
    "        # Use pathlib to construct the path\n",
    "        path = Path(\"..\") / \"data\" / \"raw\" / f\"rides_{year}_{month:02}.parquet\"\n",
    "        # Ensure the parent directory exists\n",
    "        path.parent.mkdir(parents=True, exist_ok=True)\n",
    "        # Write the content to the file\n",
    "        path.write_bytes(response.content)\n",
    "        print(f\"Successfully fetched: {str(path)}\")\n",
    "        return str(path)\n",
    "    else:\n",
    "        raise Exception(f\"{url} is not available\")\n"
   ]
  },
  {
   "cell_type": "code",
   "execution_count": 3,
   "id": "ea3d5f04-c44f-4f2f-9d32-64508e212d29",
   "metadata": {},
   "outputs": [
    {
     "name": "stdout",
     "output_type": "stream",
     "text": [
      "Successfully fetched: ../data/raw/rides_2023_01.parquet\n"
     ]
    },
    {
     "data": {
      "text/plain": [
       "'../data/raw/rides_2023_01.parquet'"
      ]
     },
     "execution_count": 3,
     "metadata": {},
     "output_type": "execute_result"
    }
   ],
   "source": [
    "fetch_raw_data(2023, 1)"
   ]
  },
  {
   "cell_type": "code",
   "execution_count": null,
   "id": "03fc6e34-67b4-4116-b333-9bbcfae3bbbd",
   "metadata": {},
   "outputs": [],
   "source": [
    "# from pathlib import Path\n",
    "\n",
    "# # Filter and rename columns\n",
    "# rides = rides[final_filter]\n",
    "# rides = rides[[\"tpep_pickup_datetime\", \"PULocationID\"]]\n",
    "# rides.rename(columns={\n",
    "#     \"tpep_pickup_datetime\": \"pickup_datetime\",\n",
    "#     \"PULocationID\": \"pickup_location_id\"\n",
    "# }, inplace=True)\n",
    "\n",
    "# # Define year and month\n",
    "# year = 2023\n",
    "# month = 1\n",
    "\n",
    "# # Define the directory and ensure it exists\n",
    "# path = Path(\"..\") / \"data\" / \"processed\"\n",
    "# path.mkdir(parents=True, exist_ok=True)\n",
    "\n",
    "# # Define file path and save as Parquet\n",
    "# file_path = path / f\"rides_{year}_{month:02}.parquet\"\n",
    "# rides.to_parquet(file_path, engine=\"pyarrow\", index=False)\n"
   ]
  }
 ],
 "metadata": {
  "kernelspec": {
   "display_name": "Python 3 (ipykernel)",
   "language": "python",
   "name": "python3"
  },
  "language_info": {
   "codemirror_mode": {
    "name": "ipython",
    "version": 3
   },
   "file_extension": ".py",
   "mimetype": "text/x-python",
   "name": "python",
   "nbconvert_exporter": "python",
   "pygments_lexer": "ipython3",
   "version": "3.12.4"
  }
 },
 "nbformat": 4,
 "nbformat_minor": 5
}
